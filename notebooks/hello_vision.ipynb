{
 "cells": [
  {
   "cell_type": "code",
   "execution_count": null,
   "id": "5db205fd",
   "metadata": {
    "vscode": {
     "languageId": "plaintext"
    }
   },
   "outputs": [],
   "source": [
    "# hello_vision.ipynb\n",
    "import cv2\n",
    "import matplotlib.pyplot as plt\n",
    "import numpy as np\n",
    "\n",
    "# Crear una imagen negra con un círculo rojo\n",
    "img = np.zeros((200, 200, 3), dtype=np.uint8)\n",
    "cv2.circle(img, (100, 100), 50, (0, 0, 255), -1)\n",
    "\n",
    "# Mostrar la imagen con matplotlib\n",
    "plt.imshow(cv2.cvtColor(img, cv2.COLOR_BGR2RGB))\n",
    "plt.title(\"Hola Visión Artificial\")\n",
    "plt.axis('off')\n",
    "plt.show()\n"
   ]
  }
 ],
 "metadata": {
  "language_info": {
   "name": "python"
  }
 },
 "nbformat": 4,
 "nbformat_minor": 5
}
